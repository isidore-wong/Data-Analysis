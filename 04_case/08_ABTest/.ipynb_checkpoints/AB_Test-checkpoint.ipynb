{
 "cells": [
  {
   "cell_type": "code",
   "execution_count": 1,
   "metadata": {},
   "outputs": [],
   "source": [
    "import numpy as np\n",
    "import pandas as pd\n",
    "import random\n",
    "import matplotlib.pyplot as plt"
   ]
  },
  {
   "cell_type": "code",
   "execution_count": 2,
   "metadata": {},
   "outputs": [
    {
     "data": {
      "text/html": [
       "<div>\n",
       "<style scoped>\n",
       "    .dataframe tbody tr th:only-of-type {\n",
       "        vertical-align: middle;\n",
       "    }\n",
       "\n",
       "    .dataframe tbody tr th {\n",
       "        vertical-align: top;\n",
       "    }\n",
       "\n",
       "    .dataframe thead th {\n",
       "        text-align: right;\n",
       "    }\n",
       "</style>\n",
       "<table border=\"1\" class=\"dataframe\">\n",
       "  <thead>\n",
       "    <tr style=\"text-align: right;\">\n",
       "      <th></th>\n",
       "      <th>user_id</th>\n",
       "      <th>timestamp</th>\n",
       "      <th>group</th>\n",
       "      <th>landing_page</th>\n",
       "      <th>converted</th>\n",
       "    </tr>\n",
       "  </thead>\n",
       "  <tbody>\n",
       "    <tr>\n",
       "      <td>0</td>\n",
       "      <td>851104</td>\n",
       "      <td>2017-01-21 22:11:48.556739</td>\n",
       "      <td>control</td>\n",
       "      <td>old_page</td>\n",
       "      <td>0</td>\n",
       "    </tr>\n",
       "    <tr>\n",
       "      <td>1</td>\n",
       "      <td>804228</td>\n",
       "      <td>2017-01-12 08:01:45.159739</td>\n",
       "      <td>control</td>\n",
       "      <td>old_page</td>\n",
       "      <td>0</td>\n",
       "    </tr>\n",
       "    <tr>\n",
       "      <td>2</td>\n",
       "      <td>661590</td>\n",
       "      <td>2017-01-11 16:55:06.154213</td>\n",
       "      <td>treatment</td>\n",
       "      <td>new_page</td>\n",
       "      <td>0</td>\n",
       "    </tr>\n",
       "    <tr>\n",
       "      <td>3</td>\n",
       "      <td>853541</td>\n",
       "      <td>2017-01-08 18:28:03.143765</td>\n",
       "      <td>treatment</td>\n",
       "      <td>new_page</td>\n",
       "      <td>0</td>\n",
       "    </tr>\n",
       "    <tr>\n",
       "      <td>4</td>\n",
       "      <td>864975</td>\n",
       "      <td>2017-01-21 01:52:26.210827</td>\n",
       "      <td>control</td>\n",
       "      <td>old_page</td>\n",
       "      <td>1</td>\n",
       "    </tr>\n",
       "  </tbody>\n",
       "</table>\n",
       "</div>"
      ],
      "text/plain": [
       "   user_id                   timestamp      group landing_page  converted\n",
       "0   851104  2017-01-21 22:11:48.556739    control     old_page          0\n",
       "1   804228  2017-01-12 08:01:45.159739    control     old_page          0\n",
       "2   661590  2017-01-11 16:55:06.154213  treatment     new_page          0\n",
       "3   853541  2017-01-08 18:28:03.143765  treatment     new_page          0\n",
       "4   864975  2017-01-21 01:52:26.210827    control     old_page          1"
      ]
     },
     "execution_count": 2,
     "metadata": {},
     "output_type": "execute_result"
    }
   ],
   "source": [
    "df = pd.read_csv('../00_dataset/ab_data.csv')\n",
    "df.head()"
   ]
  },
  {
   "cell_type": "code",
   "execution_count": 3,
   "metadata": {},
   "outputs": [
    {
     "name": "stdout",
     "output_type": "stream",
     "text": [
      "<class 'pandas.core.frame.DataFrame'>\n",
      "RangeIndex: 294478 entries, 0 to 294477\n",
      "Data columns (total 5 columns):\n",
      "user_id         294478 non-null int64\n",
      "timestamp       294478 non-null object\n",
      "group           294478 non-null object\n",
      "landing_page    294478 non-null object\n",
      "converted       294478 non-null int64\n",
      "dtypes: int64(2), object(3)\n",
      "memory usage: 11.2+ MB\n"
     ]
    }
   ],
   "source": [
    "df.info()"
   ]
  },
  {
   "cell_type": "code",
   "execution_count": 6,
   "metadata": {},
   "outputs": [
    {
     "data": {
      "text/plain": [
       "user_id         0\n",
       "timestamp       0\n",
       "group           0\n",
       "landing_page    0\n",
       "converted       0\n",
       "dtype: int64"
      ]
     },
     "execution_count": 6,
     "metadata": {},
     "output_type": "execute_result"
    }
   ],
   "source": [
    "df.isnull().sum()"
   ]
  },
  {
   "cell_type": "code",
   "execution_count": 7,
   "metadata": {},
   "outputs": [
    {
     "data": {
      "text/plain": [
       "user_id         3893\n",
       "timestamp       3893\n",
       "group           3893\n",
       "landing_page    3893\n",
       "converted       3893\n",
       "dtype: int64"
      ]
     },
     "execution_count": 7,
     "metadata": {},
     "output_type": "execute_result"
    }
   ],
   "source": [
    "# 查看数据中group和landing_page是否有不一致的情况\n",
    "df.loc[(df['group'] == 'treatment') != (df['landing_page'] == 'new_page')].count()"
   ]
  },
  {
   "cell_type": "code",
   "execution_count": 10,
   "metadata": {},
   "outputs": [
    {
     "data": {
      "text/plain": [
       "user_id         290585\n",
       "timestamp       290585\n",
       "group           290585\n",
       "landing_page    290585\n",
       "converted       290585\n",
       "dtype: int64"
      ]
     },
     "execution_count": 10,
     "metadata": {},
     "output_type": "execute_result"
    }
   ],
   "source": [
    "# 源数据中可以看到有3893条记录的数据出错，故对其进行剔除\n",
    "df2 = df.loc[~((df['group'] == 'treatment') != (df['landing_page'] == 'new_page'))]\n",
    "df2.count()"
   ]
  },
  {
   "cell_type": "code",
   "execution_count": 16,
   "metadata": {},
   "outputs": [
    {
     "data": {
      "text/plain": [
       "290584"
      ]
     },
     "execution_count": 16,
     "metadata": {},
     "output_type": "execute_result"
    }
   ],
   "source": [
    "# 判断现有数据中是否有重复数据\n",
    "# df2.user_id.nunique()\n",
    "df2['user_id'].nunique()"
   ]
  },
  {
   "cell_type": "code",
   "execution_count": 21,
   "metadata": {},
   "outputs": [
    {
     "data": {
      "text/plain": [
       "(290584, 5)"
      ]
     },
     "execution_count": 21,
     "metadata": {},
     "output_type": "execute_result"
    }
   ],
   "source": [
    "# 删除重复值\n",
    "df2[df2['user_id'].duplicated(keep=False)]    # 查看重复的用户信息，将两条记录同时展现\n",
    "df2 = df2.drop_duplicates(subset=['user_id'], keep='first')\n",
    "\n",
    "df2.shape"
   ]
  },
  {
   "cell_type": "code",
   "execution_count": 33,
   "metadata": {},
   "outputs": [
    {
     "name": "stdout",
     "output_type": "stream",
     "text": [
      "目前页面的整体转化率为:  11.96%, \n",
      "新页面转化率为：11.88%, \n",
      "旧页面的转化率为：12.04%, \n",
      "新旧页面的分流比例为：50.01%\n"
     ]
    }
   ],
   "source": [
    "# 计算用户转化率\n",
    "# 整体转化率\n",
    "total_converted = df2['converted'].mean()  # 整体转化率\n",
    "# 新页面转化率\n",
    "newPage_converted = df2[df2['landing_page'] == 'new_page']['converted'].mean()\n",
    "# 旧页面转化率\n",
    "oldPage_converted = df2[df2['landing_page'] == 'old_page']['converted'].mean()\n",
    "# AB test的流量分流比例--用户收到新页面的概率\n",
    "getNew_pro = df2[df2['landing_page'] == 'new_page'].shape[0] / df2.shape[0]\n",
    "\n",
    "print('目前页面的整体转化率为:  %.2f%%, \\n新页面转化率为：%.2f%%, \\n旧页面的转化率为：%.2f%%, \\n新旧页面的分流比例为：%.2f%%' \n",
    "      % (total_converted * 100, newPage_converted * 100, oldPage_converted * 100, getNew_pro * 100))"
   ]
  },
  {
   "cell_type": "markdown",
   "metadata": {},
   "source": [
    "通过计算可以发现，新旧页面的分流比例为50%，但新页面的转化率11.88%是低于旧页面12.04%的转化率，看似旧页面的效果要优于新页面，究竟是本身就如此还是由于一些随机因素导致的呢？对以上结果进行显著性检验："
   ]
  },
  {
   "cell_type": "markdown",
   "metadata": {},
   "source": [
    "#### AB test\n",
    "目标：新页面的转化率高于旧页面的转化率， 故设计原假设与备择假设如下：\n",
    "- H0：P_new - P_old <= 0\n",
    "- H1：P_new - P_old > 0"
   ]
  },
  {
   "cell_type": "code",
   "execution_count": 37,
   "metadata": {},
   "outputs": [],
   "source": [
    "new_num = df2[df2['landing_page'] == 'new_page'].shape[0]\n",
    "old_num = df2[df2['landing_page'] == 'old_page'].shape[0]\n",
    "p_new = newPage_converted\n",
    "p_old = oldPage_converted"
   ]
  },
  {
   "cell_type": "code",
   "execution_count": 43,
   "metadata": {},
   "outputs": [
    {
     "name": "stdout",
     "output_type": "stream",
     "text": [
      "z值为: 1.3109271488301917\n",
      "查t表得到显著性水平为0.05的z值为： 1.6448536269514722\n",
      "按α=0.05的水准，该结果落在95%的置信区间内，无法拒绝原假设H0，故新页面的转化率无法判断比旧页面好，因此建议延长测试时间，继续观察数据。\n"
     ]
    }
   ],
   "source": [
    "from scipy.stats import norm\n",
    "\n",
    "# 计算显著性检验z值\n",
    "z_score = (p_old - p_new) / np.sqrt(p_old*(1-p_old)/old_num + p_new*(1-p_new)/new_num)\n",
    "print(\"z值为:\", z_score)\n",
    "\n",
    "# 计算置信区间，显著性水平α=0.05\n",
    "z_t = norm.ppf(1-0.05)\n",
    "print('查t表得到显著性水平为0.05的z值为：', z_t)\n",
    "\n",
    "if z_score < z_t:\n",
    "    print('按α=0.05的水准，z_score<z_t，该结果落在95%的置信区间内，无法拒绝原假设H0，故新页面的转化率无法判断比旧页面好，因此建议延长测试时间，继续观察数据。')"
   ]
  },
  {
   "cell_type": "code",
   "execution_count": null,
   "metadata": {},
   "outputs": [],
   "source": []
  }
 ],
 "metadata": {
  "kernelspec": {
   "display_name": "Python 3",
   "language": "python",
   "name": "python3"
  },
  "language_info": {
   "codemirror_mode": {
    "name": "ipython",
    "version": 3
   },
   "file_extension": ".py",
   "mimetype": "text/x-python",
   "name": "python",
   "nbconvert_exporter": "python",
   "pygments_lexer": "ipython3",
   "version": "3.7.4"
  }
 },
 "nbformat": 4,
 "nbformat_minor": 2
}
