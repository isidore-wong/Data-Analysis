{
 "cells": [
  {
   "cell_type": "code",
   "execution_count": 26,
   "metadata": {},
   "outputs": [],
   "source": [
    "import pandas as pd\n",
    "import numpy as np"
   ]
  },
  {
   "cell_type": "code",
   "execution_count": 27,
   "metadata": {
    "scrolled": true
   },
   "outputs": [
    {
     "data": {
      "text/html": [
       "<div>\n",
       "<style scoped>\n",
       "    .dataframe tbody tr th:only-of-type {\n",
       "        vertical-align: middle;\n",
       "    }\n",
       "\n",
       "    .dataframe tbody tr th {\n",
       "        vertical-align: top;\n",
       "    }\n",
       "\n",
       "    .dataframe thead th {\n",
       "        text-align: right;\n",
       "    }\n",
       "</style>\n",
       "<table border=\"1\" class=\"dataframe\">\n",
       "  <thead>\n",
       "    <tr style=\"text-align: right;\">\n",
       "      <th></th>\n",
       "      <th>品牌名称</th>\n",
       "      <th>买家昵称</th>\n",
       "      <th>付款日期</th>\n",
       "      <th>订单状态</th>\n",
       "      <th>实付金额</th>\n",
       "      <th>邮费</th>\n",
       "      <th>省份</th>\n",
       "      <th>城市</th>\n",
       "      <th>购买数量</th>\n",
       "    </tr>\n",
       "  </thead>\n",
       "  <tbody>\n",
       "    <tr>\n",
       "      <td>0</td>\n",
       "      <td>viva la vida</td>\n",
       "      <td>做快淘饭</td>\n",
       "      <td>2019-04-18 00:03:00</td>\n",
       "      <td>交易成功</td>\n",
       "      <td>22.32</td>\n",
       "      <td>0</td>\n",
       "      <td>北京</td>\n",
       "      <td>北京市</td>\n",
       "      <td>1</td>\n",
       "    </tr>\n",
       "    <tr>\n",
       "      <td>1</td>\n",
       "      <td>viva la vida</td>\n",
       "      <td>作自有世祟</td>\n",
       "      <td>2019-02-17 00:03:51</td>\n",
       "      <td>交易成功</td>\n",
       "      <td>87.00</td>\n",
       "      <td>0</td>\n",
       "      <td>上海</td>\n",
       "      <td>上海市</td>\n",
       "      <td>1</td>\n",
       "    </tr>\n",
       "    <tr>\n",
       "      <td>2</td>\n",
       "      <td>viva la vida</td>\n",
       "      <td>作雪白室</td>\n",
       "      <td>2019-04-18 00:01:43</td>\n",
       "      <td>交易成功</td>\n",
       "      <td>97.66</td>\n",
       "      <td>0</td>\n",
       "      <td>福建省</td>\n",
       "      <td>福州市</td>\n",
       "      <td>2</td>\n",
       "    </tr>\n",
       "    <tr>\n",
       "      <td>3</td>\n",
       "      <td>viva la vida</td>\n",
       "      <td>作美女购物主</td>\n",
       "      <td>2019-01-11 23:35:01</td>\n",
       "      <td>交易成功</td>\n",
       "      <td>37.23</td>\n",
       "      <td>0</td>\n",
       "      <td>河南省</td>\n",
       "      <td>安阳市</td>\n",
       "      <td>3</td>\n",
       "    </tr>\n",
       "    <tr>\n",
       "      <td>4</td>\n",
       "      <td>viva la vida</td>\n",
       "      <td>作美女购物主</td>\n",
       "      <td>2019-02-18 14:16:03</td>\n",
       "      <td>交易成功</td>\n",
       "      <td>29.50</td>\n",
       "      <td>0</td>\n",
       "      <td>河南省</td>\n",
       "      <td>安阳市</td>\n",
       "      <td>2</td>\n",
       "    </tr>\n",
       "  </tbody>\n",
       "</table>\n",
       "</div>"
      ],
      "text/plain": [
       "           品牌名称    买家昵称                付款日期  订单状态   实付金额  邮费   省份   城市  购买数量\n",
       "0  viva la vida    做快淘饭 2019-04-18 00:03:00  交易成功  22.32   0   北京  北京市     1\n",
       "1  viva la vida   作自有世祟 2019-02-17 00:03:51  交易成功  87.00   0   上海  上海市     1\n",
       "2  viva la vida    作雪白室 2019-04-18 00:01:43  交易成功  97.66   0  福建省  福州市     2\n",
       "3  viva la vida  作美女购物主 2019-01-11 23:35:01  交易成功  37.23   0  河南省  安阳市     3\n",
       "4  viva la vida  作美女购物主 2019-02-18 14:16:03  交易成功  29.50   0  河南省  安阳市     2"
      ]
     },
     "execution_count": 27,
     "metadata": {},
     "output_type": "execute_result"
    }
   ],
   "source": [
    "df = pd.read_excel('/04_case/00_dataset/TGI index data.xlsx')\n",
    "df.head()"
   ]
  },
  {
   "cell_type": "code",
   "execution_count": null,
   "metadata": {},
   "outputs": [],
   "source": []
  },
  {
   "cell_type": "code",
   "execution_count": null,
   "metadata": {},
   "outputs": [],
   "source": []
  },
  {
   "cell_type": "code",
   "execution_count": null,
   "metadata": {},
   "outputs": [],
   "source": []
  }
 ],
 "metadata": {
  "kernelspec": {
   "display_name": "Python 3",
   "language": "python",
   "name": "python3"
  },
  "language_info": {
   "codemirror_mode": {
    "name": "ipython",
    "version": 3
   },
   "file_extension": ".py",
   "mimetype": "text/x-python",
   "name": "python",
   "nbconvert_exporter": "python",
   "pygments_lexer": "ipython3",
   "version": "3.7.4"
  }
 },
 "nbformat": 4,
 "nbformat_minor": 2
}
