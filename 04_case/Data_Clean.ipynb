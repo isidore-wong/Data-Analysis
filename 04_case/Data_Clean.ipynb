{
 "cells": [
  {
   "cell_type": "code",
   "execution_count": 1,
   "metadata": {},
   "outputs": [],
   "source": [
    "%matplotlib inline"
   ]
  },
  {
   "cell_type": "markdown",
   "metadata": {},
   "source": [
    "## Data Cleaning: handling of missing values, outliers, and duplicate values\n",
    "### 1.1 Missing values"
   ]
  },
  {
   "cell_type": "code",
   "execution_count": 7,
   "metadata": {},
   "outputs": [],
   "source": [
    "import pandas as pd\n",
    "import numpy as np\n",
    "from sklearn.preprocessing import Imputer\n",
    "from sklearn.impute import SimpleImputer "
   ]
  },
  {
   "cell_type": "code",
   "execution_count": 3,
   "metadata": {},
   "outputs": [
    {
     "name": "stdout",
     "output_type": "stream",
     "text": [
      "       col1      col2      col3      col4\n",
      "0  1.308397 -0.347358 -0.950502  0.518894\n",
      "1 -0.942474       NaN -1.488788 -0.436018\n",
      "2  0.105190  2.187603 -0.084410  0.015061\n",
      "3 -1.611349 -0.961022 -0.440345 -0.477986\n",
      "4  1.578641  0.804782  0.316604       NaN\n",
      "5 -0.596343  0.527066 -0.028920 -1.894049\n"
     ]
    }
   ],
   "source": [
    "# produce some missing vlaues\n",
    "df = pd.DataFrame(np.random.randn(6, 4), columns=['col1', 'col2', 'col3', 'col4'])\n",
    "df.iloc[1:2,1] = np.nan\n",
    "df.iloc[4,3] = np.nan\n",
    "print(df)"
   ]
  },
  {
   "cell_type": "code",
   "execution_count": 10,
   "metadata": {},
   "outputs": [
    {
     "name": "stdout",
     "output_type": "stream",
     "text": [
      "    col1   col2   col3   col4\n",
      "0  False  False  False  False\n",
      "1  False   True  False  False\n",
      "2  False  False  False  False\n",
      "3  False  False  False  False\n",
      "4  False  False  False   True\n",
      "5  False  False  False  False\n",
      "col1    False\n",
      "col2     True\n",
      "col3    False\n",
      "col4     True\n",
      "dtype: bool\n",
      "col1    False\n",
      "col2    False\n",
      "col3    False\n",
      "col4    False\n",
      "dtype: bool\n",
      "       col1      col2      col3      col4\n",
      "0  1.308397 -0.347358 -0.950502  0.518894\n",
      "2  0.105190  2.187603 -0.084410  0.015061\n",
      "3 -1.611349 -0.961022 -0.440345 -0.477986\n",
      "5 -0.596343  0.527066 -0.028920 -1.894049\n",
      "[[ 1.30839668 -0.34735768 -0.95050151  0.51889445]\n",
      " [-0.94247355  0.44221421 -1.48878795 -0.4360184 ]\n",
      " [ 0.10519015  2.18760263 -0.08441017  0.01506075]\n",
      " [-1.61134911 -0.9610216  -0.44034505 -0.47798575]\n",
      " [ 1.57864123  0.80478201  0.31660423 -0.45481949]\n",
      " [-0.59634302  0.52706567 -0.02891958 -1.89404852]]\n"
     ]
    }
   ],
   "source": [
    "# find missing values\n",
    "nan_all = df.isnull()\n",
    "\n",
    "# colume with NaN\n",
    "nan_col1 = df.isnull().any()\n",
    "# colume with all NaN\n",
    "nan_col2 = df.isnull().all()\n",
    "print(nan_all)\n",
    "print(nan_col1)\n",
    "print(nan_col2)\n",
    "\n",
    "# discard row with NaN\n",
    "df_without_nan = df.dropna()\n",
    "print(df_without_nan)\n",
    "\n",
    "# use sklearn to deal with nan. use mean value of column to fill in NaN\n",
    "# Class Imputer is deprecated; Import impute.SimpleImputer from sklearn instead.\n",
    "# nan_model = Imputer(missing_values='NaN', strategy='mean', axis=0)\n",
    "nan_model = SimpleImputer(missing_values=np.nan, strategy='mean')\n",
    "nan_result = nan_model.fit_transform(df)\n",
    "print(nan_result)"
   ]
  },
  {
   "cell_type": "code",
   "execution_count": 12,
   "metadata": {},
   "outputs": [
    {
     "name": "stdout",
     "output_type": "stream",
     "text": [
      "       col1      col2      col3      col4\n",
      "0  1.308397 -0.347358 -0.950502  0.518894\n",
      "1 -0.942474  2.187603 -1.488788 -0.436018\n",
      "2  0.105190  2.187603 -0.084410  0.015061\n",
      "3 -1.611349 -0.961022 -0.440345 -0.477986\n",
      "4  1.578641  0.804782  0.316604 -1.894049\n",
      "5 -0.596343  0.527066 -0.028920 -1.894049\n",
      "       col1      col2      col3      col4\n",
      "0  1.308397 -0.347358 -0.950502  0.518894\n",
      "1 -0.942474  2.187603 -1.488788 -0.436018\n",
      "2  0.105190  2.187603 -0.084410  0.015061\n",
      "3 -1.611349 -0.961022 -0.440345 -0.477986\n",
      "4  1.578641  0.804782  0.316604 -1.894049\n",
      "5 -0.596343  0.527066 -0.028920 -1.894049\n",
      "       col1      col2      col3      col4\n",
      "0  1.308397 -0.347358 -0.950502  0.518894\n",
      "1 -0.942474 -0.347358 -1.488788 -0.436018\n",
      "2  0.105190  2.187603 -0.084410  0.015061\n",
      "3 -1.611349 -0.961022 -0.440345 -0.477986\n",
      "4  1.578641  0.804782  0.316604 -0.477986\n",
      "5 -0.596343  0.527066 -0.028920 -1.894049\n",
      "       col1      col2      col3      col4\n",
      "0  1.308397 -0.347358 -0.950502  0.518894\n",
      "1 -0.942474  0.000000 -1.488788 -0.436018\n",
      "2  0.105190  2.187603 -0.084410  0.015061\n",
      "3 -1.611349 -0.961022 -0.440345 -0.477986\n",
      "4  1.578641  0.804782  0.316604  0.000000\n",
      "5 -0.596343  0.527066 -0.028920 -1.894049\n",
      "       col1      col2      col3      col4\n",
      "0  1.308397 -0.347358 -0.950502  0.518894\n",
      "1 -0.942474  1.100000 -1.488788 -0.436018\n",
      "2  0.105190  2.187603 -0.084410  0.015061\n",
      "3 -1.611349 -0.961022 -0.440345 -0.477986\n",
      "4  1.578641  0.804782  0.316604  1.200000\n",
      "5 -0.596343  0.527066 -0.028920 -1.894049\n",
      "       col1      col2      col3      col4\n",
      "0  1.308397 -0.347358 -0.950502  0.518894\n",
      "1 -0.942474  0.442214 -1.488788 -0.436018\n",
      "2  0.105190  2.187603 -0.084410  0.015061\n",
      "3 -1.611349 -0.961022 -0.440345 -0.477986\n",
      "4  1.578641  0.804782  0.316604 -0.454819\n",
      "5 -0.596343  0.527066 -0.028920 -1.894049\n"
     ]
    }
   ],
   "source": [
    "# use pandas to deal with missing values\n",
    "nan_result_pd1 = df.fillna(method='backfill')    # use back value to fill in NaN\n",
    "nan_result_pd2 = df.fillna(method='bfill', limit=1)    # use back value,limit one value in every column\n",
    "nan_result_pd3 = df.fillna(method='pad')     # use front value\n",
    "nan_result_pd4 = df.fillna(0)    # use 0 to fill in nan\n",
    "nan_result_pd5 = df.fillna({ 'col2': 1.1, 'col4': 1.2})   # use specified value to fill in nan\n",
    "nan_result_pd6 = df.fillna(df.mean()['col2':'col4'])   # use mean value of column to fill in nan\n",
    "\n",
    "print(nan_result_pd1)\n",
    "print(nan_result_pd2)\n",
    "print(nan_result_pd3)\n",
    "print(nan_result_pd4)\n",
    "print(nan_result_pd5)\n",
    "print(nan_result_pd6)"
   ]
  },
  {
   "cell_type": "markdown",
   "metadata": {},
   "source": [
    "### 1.2 Outliers\n",
    "##### Standardization of Z value as a criterion"
   ]
  },
  {
   "cell_type": "code",
   "execution_count": 13,
   "metadata": {},
   "outputs": [
    {
     "name": "stdout",
     "output_type": "stream",
     "text": [
      "   col1  col2\n",
      "0     1    12\n",
      "1   120    17\n",
      "2     3    31\n",
      "3     5    53\n",
      "4     2    22\n",
      "5    12    32\n",
      "6    13    43\n"
     ]
    }
   ],
   "source": [
    "df_outlier = pd.DataFrame({'col1': [1, 120, 3, 5, 2, 12, 13],\n",
    "                   'col2': [12, 17, 31, 53, 22, 32, 43]})\n",
    "print(df_outlier)"
   ]
  },
  {
   "cell_type": "code",
   "execution_count": 15,
   "metadata": {},
   "outputs": [
    {
     "name": "stdout",
     "output_type": "stream",
     "text": [
      "    col1   col2\n",
      "0  False  False\n",
      "1   True  False\n",
      "2  False  False\n",
      "3  False  False\n",
      "4  False  False\n",
      "5  False  False\n",
      "6  False  False\n"
     ]
    }
   ],
   "source": [
    "# Z-Score\n",
    "df_zscore = df_outlier.copy()\n",
    "cols = df_outlier.columns\n",
    "for col in cols:\n",
    "    df_col = df_outlier[col]\n",
    "    z_score = (df_col - df_col.mean()) / df_col.std()\n",
    "    df_zscore[col] = z_score.abs() > 2.2\n",
    "\n",
    "print(df_zscore)"
   ]
  },
  {
   "cell_type": "markdown",
   "metadata": {},
   "source": [
    "### 2.1 Convert categorical and sequential data to marker variables"
   ]
  },
  {
   "cell_type": "code",
   "execution_count": 16,
   "metadata": {},
   "outputs": [],
   "source": [
    "from sklearn.preprocessing import OneHotEncoder, LabelEncoder"
   ]
  },
  {
   "cell_type": "code",
   "execution_count": 17,
   "metadata": {},
   "outputs": [
    {
     "name": "stdout",
     "output_type": "stream",
     "text": [
      "        id     sex   level  score\n",
      "0  3566841    male    high      1\n",
      "1  6541227  Female     low      2\n",
      "2  3512441  Female  middle      3\n"
     ]
    }
   ],
   "source": [
    "df_convert = pd.DataFrame({'id': [3566841, 6541227, 3512441],\n",
    "                   'sex': ['male', 'Female', 'Female'],\n",
    "                   'level': ['high', 'low', 'middle'],\n",
    "                   'score': [1, 2, 3]})\n",
    "print(df_convert) "
   ]
  },
  {
   "cell_type": "code",
   "execution_count": 21,
   "metadata": {},
   "outputs": [
    {
     "name": "stdout",
     "output_type": "stream",
     "text": [
      "        id    0    1    2    3    4    5    6    7\n",
      "0  3566841  0.0  1.0  1.0  0.0  0.0  1.0  0.0  0.0\n",
      "1  6541227  1.0  0.0  0.0  1.0  0.0  0.0  1.0  0.0\n",
      "2  3512441  1.0  0.0  0.0  0.0  1.0  0.0  0.0  1.0\n"
     ]
    }
   ],
   "source": [
    "# use sklearn to convert mark variables. split ID column and data columns\n",
    "id_data = df_convert[['id']]\n",
    "raw_convert_data = df_convert.iloc[:, 1:]\n",
    "# print(raw_convert_data)\n",
    "\n",
    "# Dumb coding, marker changed\n",
    "model_enc = OneHotEncoder()\n",
    "df_convert_new = model_enc.fit_transform(raw_convert_data).toarray()\n",
    "df_all = pd.concat((id_data, pd.DataFrame(df_convert_new)), axis=1)\n",
    "print(df_all)"
   ]
  },
  {
   "cell_type": "code",
   "execution_count": 22,
   "metadata": {},
   "outputs": [
    {
     "name": "stdout",
     "output_type": "stream",
     "text": [
      "        id  score  sex_Female  sex_male  level_high  level_low  level_middle\n",
      "0  3566841      1           0         1           1          0             0\n",
      "1  6541227      2           1         0           0          1             0\n",
      "2  3512441      3           1         0           0          0             1\n"
     ]
    }
   ],
   "source": [
    "df_new = pd.get_dummies(raw_convert_data)\n",
    "df_all2 = pd.concat((id_data, pd.DataFrame(df_new)), axis=1)\n",
    "print(df_all2)"
   ]
  },
  {
   "cell_type": "code",
   "execution_count": null,
   "metadata": {},
   "outputs": [],
   "source": []
  },
  {
   "cell_type": "code",
   "execution_count": null,
   "metadata": {},
   "outputs": [],
   "source": []
  },
  {
   "cell_type": "code",
   "execution_count": null,
   "metadata": {},
   "outputs": [],
   "source": []
  },
  {
   "cell_type": "code",
   "execution_count": null,
   "metadata": {},
   "outputs": [],
   "source": []
  },
  {
   "cell_type": "code",
   "execution_count": null,
   "metadata": {},
   "outputs": [],
   "source": []
  },
  {
   "cell_type": "code",
   "execution_count": null,
   "metadata": {},
   "outputs": [],
   "source": []
  },
  {
   "cell_type": "code",
   "execution_count": null,
   "metadata": {},
   "outputs": [],
   "source": []
  }
 ],
 "metadata": {
  "kernelspec": {
   "display_name": "Python 3",
   "language": "python",
   "name": "python3"
  },
  "language_info": {
   "codemirror_mode": {
    "name": "ipython",
    "version": 3
   },
   "file_extension": ".py",
   "mimetype": "text/x-python",
   "name": "python",
   "nbconvert_exporter": "python",
   "pygments_lexer": "ipython3",
   "version": "3.7.4"
  }
 },
 "nbformat": 4,
 "nbformat_minor": 2
}
