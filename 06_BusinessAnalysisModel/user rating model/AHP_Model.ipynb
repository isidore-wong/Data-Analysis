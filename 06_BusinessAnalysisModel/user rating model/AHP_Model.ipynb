{
 "cells": [
  {
   "cell_type": "code",
   "execution_count": 1,
   "metadata": {},
   "outputs": [],
   "source": [
    "import numpy as np\n",
    "import pandas as pd\n",
    "import warnings\n",
    "\n",
    "warnings.filterwarnings('ignore')"
   ]
  },
  {
   "cell_type": "code",
   "execution_count": 5,
   "metadata": {},
   "outputs": [],
   "source": [
    "class AHP_Model:\n",
    "    def __init__(self, criteria, b):\n",
    "        self.RI = (0, 0, 0.58, 0.9, 1.12, 1.24, 1.32, 1.41, 1.45, 1.49)\n",
    "        self.criteria = criteria\n",
    "        self.b = b\n",
    "        self.num_criteria = criteria.shape[0]\n",
    "        self.num_project = b[0].shape[0]\n",
    "        \n",
    "    def cal_weights(self, input_matrix):\n",
    "        input_matrix = np.array(input_matrix)\n",
    "        n, n1 = input_matrix.shape\n",
    "        assert n == n1, '不是一个方阵'\n",
    "        \n",
    "        # 判断是不是正互反矩阵\n",
    "        for i in range(n):\n",
    "            for j in range(n):\n",
    "                if np.abs(input_matrix[i, j] * input_matrix[j, i] - 1) > 1e-7:\n",
    "                    raise ValueError('不是反互对称矩阵')\n",
    "                    \n",
    "        eigenvalues, eigenvectors = np.linalg.eig(input_matrix)\n",
    "        \n",
    "        max_idx = np.argmax(eigenvalues)\n",
    "        max_eigen = eigenvalues[max_idx].real\n",
    "        eigen = eigenvectors[:, max_idx].real\n",
    "        eigen = eigen / eigen.sum()\n",
    "        \n",
    "        if n > 9:\n",
    "            CR = None\n",
    "            warnings.warn('无法判断一致性')\n",
    "        else:\n",
    "            CI = (max_eigen - n) / (n - 1)\n",
    "            CR = CI / self.RI[n]\n",
    "        return max_eigen, CR, eigen\n",
    "    \n",
    "    def run(self):\n",
    "        max_eigen, CR, criteria_eigen = self.cal_weights(self.criteria)\n",
    "        print('准则层：最大特征值{:<5f},CR={:<5f},检验{}通过'.format(max_eigen, CR, '' if CR < 0.1 else '不'))\n",
    "        print('准则层权重={}\\n'.format(criteria_eigen))\n",
    "\n",
    "        max_eigen_list, CR_list, eigen_list = [], [], []\n",
    "        for i in self.b:\n",
    "            max_eigen, CR, eigen = self.cal_weights(i)\n",
    "            max_eigen_list.append(max_eigen)\n",
    "            CR_list.append(CR)\n",
    "            eigen_list.append(eigen)\n",
    "\n",
    "        pd_print = pd.DataFrame(eigen_list,\n",
    "                                index=['准则' + str(i) for i in range(self.num_criteria)],\n",
    "                                columns=['方案' + str(i) for i in range(self.num_project)],\n",
    "                                )\n",
    "        pd_print.loc[:, '最大特征值'] = max_eigen_list\n",
    "        pd_print.loc[:, 'CR'] = CR_list\n",
    "        pd_print.loc[:, '一致性检验'] = pd_print.loc[:, 'CR'] < 0.1\n",
    "        print('方案层')\n",
    "        print(pd_print)\n",
    "\n",
    "        # 目标层\n",
    "        obj = np.dot(criteria_eigen.reshape(1, -1), np.array(eigen_list))\n",
    "        print('\\n目标层', obj)\n",
    "        print('最优选择是方案{}'.format(np.argmax(obj)))\n",
    "        return obj"
   ]
  },
  {
   "cell_type": "code",
   "execution_count": 7,
   "metadata": {
    "scrolled": true
   },
   "outputs": [
    {
     "name": "stdout",
     "output_type": "stream",
     "text": [
      "准则层：最大特征值5.072084,CR=0.014533,检验通过\n",
      "准则层权重=[0.47583538 0.26360349 0.0538146  0.09806829 0.10867824]\n",
      "\n",
      "方案层\n",
      "          方案0       方案1       方案2     最大特征值            CR  一致性检验\n",
      "准则0  0.081935  0.236341  0.681725  3.001542  8.564584e-04   True\n",
      "准则1  0.595379  0.276350  0.128271  3.005535  3.075062e-03   True\n",
      "准则2  0.428571  0.428571  0.142857  3.000000 -1.233581e-15   True\n",
      "准则3  0.633708  0.191921  0.174371  3.009203  5.112618e-03   True\n",
      "准则4  0.344545  0.108525  0.546931  3.053622  2.978976e-02   True\n",
      "\n",
      "目标层 [[0.318586   0.23898522 0.44242878]]\n",
      "最优选择是方案2\n"
     ]
    }
   ],
   "source": [
    "if __name__ == '__main__':\n",
    "    # 准则重要性矩阵\n",
    "    criteria = np.array([[1, 2, 7, 5, 5],\n",
    "                         [1 / 2, 1, 4, 3, 3],\n",
    "                         [1 / 7, 1 / 4, 1, 1 / 2, 1 / 3],\n",
    "                         [1 / 5, 1 / 3, 2, 1, 1],\n",
    "                         [1 / 5, 1 / 3, 3, 1, 1]])\n",
    "\n",
    "    # 对每个准则，方案优劣排序\n",
    "    b1 = np.array([[1, 1 / 3, 1 / 8], [3, 1, 1 / 3], [8, 3, 1]])\n",
    "    b2 = np.array([[1, 2, 5], [1 / 2, 1, 2], [1 / 5, 1 / 2, 1]])\n",
    "    b3 = np.array([[1, 1, 3], [1, 1, 3], [1 / 3, 1 / 3, 1]])\n",
    "    b4 = np.array([[1, 3, 4], [1 / 3, 1, 1], [1 / 4, 1, 1]])\n",
    "    b5 = np.array([[1, 4, 1 / 2], [1 / 4, 1, 1 / 4], [2, 4, 1]])\n",
    "\n",
    "    b = [b1, b2, b3, b4, b5]\n",
    "    a = AHP_Model(criteria, b).run()"
   ]
  },
  {
   "cell_type": "code",
   "execution_count": null,
   "metadata": {},
   "outputs": [],
   "source": []
  }
 ],
 "metadata": {
  "kernelspec": {
   "display_name": "Python 3",
   "language": "python",
   "name": "python3"
  },
  "language_info": {
   "codemirror_mode": {
    "name": "ipython",
    "version": 3
   },
   "file_extension": ".py",
   "mimetype": "text/x-python",
   "name": "python",
   "nbconvert_exporter": "python",
   "pygments_lexer": "ipython3",
   "version": "3.8.3"
  }
 },
 "nbformat": 4,
 "nbformat_minor": 4
}
