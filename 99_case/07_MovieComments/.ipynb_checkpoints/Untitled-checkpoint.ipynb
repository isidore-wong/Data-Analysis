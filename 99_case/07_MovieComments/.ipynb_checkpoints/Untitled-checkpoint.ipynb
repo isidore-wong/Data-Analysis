{
 "cells": [
  {
   "cell_type": "code",
   "execution_count": null,
   "metadata": {},
   "outputs": [],
   "source": [
    "import os\n",
    "import requests\n",
    "import pandas as pd\n",
    "import numpy as np\n",
    "import json\n",
    "import time\n",
    "import random\n",
    "from lxml import etree\n",
    "import re"
   ]
  },
  {
   "cell_type": "code",
   "execution_count": null,
   "metadata": {},
   "outputs": [],
   "source": [
    "html_get = requests.get(url, headers=headers)\n",
    "bs = etree.HTML(html_get.text)\n",
    "# 评论的用户名\n",
    "people_name = bs.xpath('//*[@id=\"comments\"]/div[1]/div[2]/h3/span[2]/a')[0].text\n",
    "# 评分\n",
    "rate_str = bs.xpath('//div[@id=\"comments\"]//span[@class=\"comment-info\"]//span/@class')\n",
    "rate_star = []\n",
    "for i in range(0, len(rate_str), 2):\n",
    "    rate_tep = re.compile(r'\\d+').findall(rate_str[i])\n",
    "    star = int(rate_tep[0]) / 10\n",
    "    rate_star.append(star)\n",
    "# 评论时间\n",
    "rating_time = bs.xpath('//*[@id=\"comments\"]/div[1]/div[2]/h3/span[2]/span[3]')[0].text.strip('\\n  \\u3000\\u3000')\n",
    "# 评论内容\n",
    "comments = bs.xpath('//div[@id=\"comments\"]//span[@class=\"short\"]/text()')\n",
    "\n",
    "concat_info = pd.DataFrame({\n",
    "    '用户名': [people_name],\n",
    "    '评分': [rate_star],\n",
    "    '评论时间': [rating_time],\n",
    "    '评论内容': [comments]\n",
    "})"
   ]
  },
  {
   "cell_type": "code",
   "execution_count": null,
   "metadata": {},
   "outputs": [],
   "source": [
    "html_get = requests.get(urls[0], headers=headers)\n",
    "bs = etree.HTML(html_get.text)\n",
    "user_name = bs.xpath('//div[@id=\"comments\"]//span[@class=\"comment-info\"]//a/text()')\n",
    "user_name"
   ]
  },
  {
   "cell_type": "code",
   "execution_count": null,
   "metadata": {},
   "outputs": [],
   "source": [
    "rate_str = bs.xpath('//div[@id=\"comments\"]//span[@class=\"comment-info\"]//span/@class')\n",
    "rate_star = []\n",
    "for i in range(0, len(rate_str), 2):\n",
    "    rate_tep = re.compile(r'\\d+').findall(rate_str[i])\n",
    "    star = int(rate_tep[0]) / 10\n",
    "    rate_star.append(star)\n",
    "\n",
    "print(rate_star)\n",
    "    # star = int(rate_list) / 10\n",
    "    # rate_star.append(star)\n",
    "# rate_stare"
   ]
  },
  {
   "cell_type": "code",
   "execution_count": null,
   "metadata": {},
   "outputs": [],
   "source": [
    "reviews = bs.xpath('//div[@id=\"comments\"]//span[@class=\"comment-info\"]//span/@title')\n",
    "reviews"
   ]
  },
  {
   "cell_type": "code",
   "execution_count": null,
   "metadata": {},
   "outputs": [],
   "source": [
    "reviews_time = []\n",
    "for i in range(1, len(reviews), 2):\n",
    "    time = reviews[i]\n",
    "    reviews_time.append(time)\n",
    "reviews_time"
   ]
  },
  {
   "cell_type": "code",
   "execution_count": null,
   "metadata": {},
   "outputs": [],
   "source": [
    "comments = bs.xpath('//div[@id=\"comments\"]//span[@class=\"short\"]/text()')\n",
    "comments"
   ]
  }
 ],
 "metadata": {
  "kernelspec": {
   "display_name": "Python 3",
   "language": "python",
   "name": "python3"
  },
  "language_info": {
   "codemirror_mode": {
    "name": "ipython",
    "version": 3
   },
   "file_extension": ".py",
   "mimetype": "text/x-python",
   "name": "python",
   "nbconvert_exporter": "python",
   "pygments_lexer": "ipython3",
   "version": "3.7.6"
  }
 },
 "nbformat": 4,
 "nbformat_minor": 4
}
