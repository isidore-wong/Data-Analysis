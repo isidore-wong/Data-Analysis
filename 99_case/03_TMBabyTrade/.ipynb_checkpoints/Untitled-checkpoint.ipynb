{
 "cells": [
  {
   "cell_type": "code",
   "execution_count": 1,
   "metadata": {},
   "outputs": [],
   "source": [
    "import numpy as np\n",
    "import pandas as pd\n",
    "import matplotlib.pyplot as plt\n",
    "import seaborn as sns"
   ]
  },
  {
   "cell_type": "code",
   "execution_count": 72,
   "metadata": {},
   "outputs": [
    {
     "data": {
      "text/plain": [
       "count    29835.000000\n",
       "mean         1.406536\n",
       "std          1.910883\n",
       "min          1.000000\n",
       "25%          1.000000\n",
       "50%          1.000000\n",
       "75%          1.000000\n",
       "max         30.000000\n",
       "Name: buy_mount, dtype: float64"
      ]
     },
     "execution_count": 72,
     "metadata": {},
     "output_type": "execute_result"
    }
   ],
   "source": [
    "df_baby = pd.read_csv('../00_dataset/tm_baby_trade/(sample)sam_tianchi_mum_baby.csv')\n",
    "df_trade = pd.read_csv('../00_dataset/tm_baby_trade/(sample)sam_tianchi_mum_baby_trade_history.csv')\n",
    "df = df_trade.merge(df_baby, how='outer', on='user_id')\n",
    "df['day'] = df['day'].astype('str')\n",
    "df['day'] = pd.to_datetime(df['day'], errors='ignore')\n",
    "# df.head()\n",
    "# df.info()\n",
    "# df.describe()\n",
    "df_copy = df.copy()\n",
    "# 查看df['buy_mount']四分位和标准差\n",
    "# df['buy_mount'].describe()\n",
    "df.drop(index=df[df['buy_mount']>30].index, inplace=True)\n",
    "df['buy_mount'].describe()"
   ]
  },
  {
   "cell_type": "code",
   "execution_count": 44,
   "metadata": {},
   "outputs": [
    {
     "name": "stdout",
     "output_type": "stream",
     "text": [
      "            buy_mount  yoy_growth_rate\n",
      "day                                   \n",
      "2012-12-31       5104              NaN\n",
      "2013-12-31      13826         1.708856\n",
      "2014-12-31      20814         0.505425\n",
      "2015-12-31       2220        -0.893341\n"
     ]
    }
   ],
   "source": [
    "# 观察销量的同比增长速度\n",
    "df = df.groupby(pd.Grouper(key='day', freq='Y')).sum()\n",
    "df['yoy_growth_rate'] = df['buy_mount'].pct_change()\n",
    "print(df[['buy_mount', 'yoy_growth_rate']])"
   ]
  },
  {
   "cell_type": "code",
   "execution_count": 62,
   "metadata": {},
   "outputs": [
    {
     "data": {
      "text/html": [
       "<div>\n",
       "<style scoped>\n",
       "    .dataframe tbody tr th:only-of-type {\n",
       "        vertical-align: middle;\n",
       "    }\n",
       "\n",
       "    .dataframe tbody tr th {\n",
       "        vertical-align: top;\n",
       "    }\n",
       "\n",
       "    .dataframe thead th {\n",
       "        text-align: right;\n",
       "    }\n",
       "</style>\n",
       "<table border=\"1\" class=\"dataframe\">\n",
       "  <thead>\n",
       "    <tr style=\"text-align: right;\">\n",
       "      <th></th>\n",
       "      <th>user_id</th>\n",
       "      <th>auction_id</th>\n",
       "      <th>cat_id</th>\n",
       "      <th>cat1</th>\n",
       "      <th>property</th>\n",
       "      <th>buy_mount</th>\n",
       "      <th>day</th>\n",
       "      <th>birthday</th>\n",
       "      <th>gender</th>\n",
       "      <th>year_label</th>\n",
       "    </tr>\n",
       "  </thead>\n",
       "  <tbody>\n",
       "    <tr>\n",
       "      <td>0</td>\n",
       "      <td>786295544</td>\n",
       "      <td>41098319944</td>\n",
       "      <td>50014866</td>\n",
       "      <td>50022520</td>\n",
       "      <td>21458:86755362;13023209:3593274;10984217:21985...</td>\n",
       "      <td>2</td>\n",
       "      <td>2014-09-19</td>\n",
       "      <td>NaN</td>\n",
       "      <td>NaN</td>\n",
       "      <td>2014</td>\n",
       "    </tr>\n",
       "    <tr>\n",
       "      <td>1</td>\n",
       "      <td>532110457</td>\n",
       "      <td>17916191097</td>\n",
       "      <td>50011993</td>\n",
       "      <td>28</td>\n",
       "      <td>21458:11399317;1628862:3251296;21475:137325;16...</td>\n",
       "      <td>1</td>\n",
       "      <td>2013-10-11</td>\n",
       "      <td>NaN</td>\n",
       "      <td>NaN</td>\n",
       "      <td>2013</td>\n",
       "    </tr>\n",
       "    <tr>\n",
       "      <td>2</td>\n",
       "      <td>249013725</td>\n",
       "      <td>21896936223</td>\n",
       "      <td>50012461</td>\n",
       "      <td>50014815</td>\n",
       "      <td>21458:30992;1628665:92012;1628665:3233938;1628...</td>\n",
       "      <td>1</td>\n",
       "      <td>2013-10-11</td>\n",
       "      <td>NaN</td>\n",
       "      <td>NaN</td>\n",
       "      <td>2013</td>\n",
       "    </tr>\n",
       "    <tr>\n",
       "      <td>3</td>\n",
       "      <td>917056007</td>\n",
       "      <td>12515996043</td>\n",
       "      <td>50018831</td>\n",
       "      <td>50014815</td>\n",
       "      <td>21458:15841995;21956:3494076;27000458:59723383...</td>\n",
       "      <td>2</td>\n",
       "      <td>2014-10-23</td>\n",
       "      <td>NaN</td>\n",
       "      <td>NaN</td>\n",
       "      <td>2014</td>\n",
       "    </tr>\n",
       "    <tr>\n",
       "      <td>4</td>\n",
       "      <td>444069173</td>\n",
       "      <td>20487688075</td>\n",
       "      <td>50013636</td>\n",
       "      <td>50008168</td>\n",
       "      <td>21458:30992;13658074:3323064;1628665:3233941;1...</td>\n",
       "      <td>1</td>\n",
       "      <td>2014-11-03</td>\n",
       "      <td>NaN</td>\n",
       "      <td>NaN</td>\n",
       "      <td>2014</td>\n",
       "    </tr>\n",
       "  </tbody>\n",
       "</table>\n",
       "</div>"
      ],
      "text/plain": [
       "     user_id   auction_id    cat_id      cat1  \\\n",
       "0  786295544  41098319944  50014866  50022520   \n",
       "1  532110457  17916191097  50011993        28   \n",
       "2  249013725  21896936223  50012461  50014815   \n",
       "3  917056007  12515996043  50018831  50014815   \n",
       "4  444069173  20487688075  50013636  50008168   \n",
       "\n",
       "                                            property  buy_mount        day  \\\n",
       "0  21458:86755362;13023209:3593274;10984217:21985...          2 2014-09-19   \n",
       "1  21458:11399317;1628862:3251296;21475:137325;16...          1 2013-10-11   \n",
       "2  21458:30992;1628665:92012;1628665:3233938;1628...          1 2013-10-11   \n",
       "3  21458:15841995;21956:3494076;27000458:59723383...          2 2014-10-23   \n",
       "4  21458:30992;13658074:3323064;1628665:3233941;1...          1 2014-11-03   \n",
       "\n",
       "   birthday  gender  year_label  \n",
       "0       NaN     NaN        2014  \n",
       "1       NaN     NaN        2013  \n",
       "2       NaN     NaN        2013  \n",
       "3       NaN     NaN        2014  \n",
       "4       NaN     NaN        2014  "
      ]
     },
     "execution_count": 62,
     "metadata": {},
     "output_type": "execute_result"
    }
   ],
   "source": [
    "# 引入时间标签\n",
    "df['year_label'] = df['day'].dt.year\n",
    "df.head()"
   ]
  },
  {
   "cell_type": "code",
   "execution_count": 63,
   "metadata": {},
   "outputs": [
    {
     "data": {
      "text/html": [
       "<div>\n",
       "<style scoped>\n",
       "    .dataframe tbody tr th:only-of-type {\n",
       "        vertical-align: middle;\n",
       "    }\n",
       "\n",
       "    .dataframe tbody tr th {\n",
       "        vertical-align: top;\n",
       "    }\n",
       "\n",
       "    .dataframe thead th {\n",
       "        text-align: right;\n",
       "    }\n",
       "</style>\n",
       "<table border=\"1\" class=\"dataframe\">\n",
       "  <thead>\n",
       "    <tr style=\"text-align: right;\">\n",
       "      <th></th>\n",
       "      <th>buy_mount</th>\n",
       "      <th>yoy_growth_rate</th>\n",
       "    </tr>\n",
       "    <tr>\n",
       "      <th>year_label</th>\n",
       "      <th></th>\n",
       "      <th></th>\n",
       "    </tr>\n",
       "  </thead>\n",
       "  <tbody>\n",
       "    <tr>\n",
       "      <td>2012</td>\n",
       "      <td>5104</td>\n",
       "      <td>NaN</td>\n",
       "    </tr>\n",
       "    <tr>\n",
       "      <td>2013</td>\n",
       "      <td>13826</td>\n",
       "      <td>1.708856</td>\n",
       "    </tr>\n",
       "    <tr>\n",
       "      <td>2014</td>\n",
       "      <td>20814</td>\n",
       "      <td>0.505425</td>\n",
       "    </tr>\n",
       "    <tr>\n",
       "      <td>2015</td>\n",
       "      <td>2220</td>\n",
       "      <td>-0.893341</td>\n",
       "    </tr>\n",
       "  </tbody>\n",
       "</table>\n",
       "</div>"
      ],
      "text/plain": [
       "            buy_mount  yoy_growth_rate\n",
       "year_label                            \n",
       "2012             5104              NaN\n",
       "2013            13826         1.708856\n",
       "2014            20814         0.505425\n",
       "2015             2220        -0.893341"
      ]
     },
     "execution_count": 63,
     "metadata": {},
     "output_type": "execute_result"
    }
   ],
   "source": [
    "df_copy = df.copy()\n",
    "df_copy = df_copy.groupby(pd.Grouper(key='year_label')).sum().sort_values(by='year_label')\n",
    "df_copy['yoy_growth_rate'] = df_copy['buy_mount'].pct_change()\n",
    "df_copy[['buy_mount', 'yoy_growth_rate']]"
   ]
  },
  {
   "cell_type": "code",
   "execution_count": 73,
   "metadata": {},
   "outputs": [
    {
     "data": {
      "text/html": [
       "<div>\n",
       "<style scoped>\n",
       "    .dataframe tbody tr th:only-of-type {\n",
       "        vertical-align: middle;\n",
       "    }\n",
       "\n",
       "    .dataframe tbody tr th {\n",
       "        vertical-align: top;\n",
       "    }\n",
       "\n",
       "    .dataframe thead th {\n",
       "        text-align: right;\n",
       "    }\n",
       "</style>\n",
       "<table border=\"1\" class=\"dataframe\">\n",
       "  <thead>\n",
       "    <tr style=\"text-align: right;\">\n",
       "      <th></th>\n",
       "      <th>year</th>\n",
       "      <th>month</th>\n",
       "      <th>buy_mount</th>\n",
       "    </tr>\n",
       "    <tr>\n",
       "      <th>day</th>\n",
       "      <th></th>\n",
       "      <th></th>\n",
       "      <th></th>\n",
       "    </tr>\n",
       "  </thead>\n",
       "  <tbody>\n",
       "    <tr>\n",
       "      <td>2012-07-31</td>\n",
       "      <td>2012</td>\n",
       "      <td>7</td>\n",
       "      <td>593</td>\n",
       "    </tr>\n",
       "    <tr>\n",
       "      <td>2012-08-31</td>\n",
       "      <td>2012</td>\n",
       "      <td>8</td>\n",
       "      <td>667</td>\n",
       "    </tr>\n",
       "    <tr>\n",
       "      <td>2012-09-30</td>\n",
       "      <td>2012</td>\n",
       "      <td>9</td>\n",
       "      <td>898</td>\n",
       "    </tr>\n",
       "    <tr>\n",
       "      <td>2012-10-31</td>\n",
       "      <td>2012</td>\n",
       "      <td>10</td>\n",
       "      <td>922</td>\n",
       "    </tr>\n",
       "    <tr>\n",
       "      <td>2012-11-30</td>\n",
       "      <td>2012</td>\n",
       "      <td>11</td>\n",
       "      <td>1033</td>\n",
       "    </tr>\n",
       "  </tbody>\n",
       "</table>\n",
       "</div>"
      ],
      "text/plain": [
       "            year  month  buy_mount\n",
       "day                               \n",
       "2012-07-31  2012      7        593\n",
       "2012-08-31  2012      8        667\n",
       "2012-09-30  2012      9        898\n",
       "2012-10-31  2012     10        922\n",
       "2012-11-30  2012     11       1033"
      ]
     },
     "execution_count": 73,
     "metadata": {},
     "output_type": "execute_result"
    }
   ],
   "source": [
    "# 观察各年度每月的销量走势\n",
    "df = df.groupby(pd.Grouper(key='day', freq='m')).sum()\n",
    "df['month'] = df.index.month\n",
    "df['year'] = df.index.year\n",
    "df_sales = df[['year', 'month', 'buy_mount']]\n",
    "df_sales.head()"
   ]
  },
  {
   "cell_type": "code",
   "execution_count": 76,
   "metadata": {},
   "outputs": [
    {
     "name": "stdout",
     "output_type": "stream",
     "text": [
      "0.5054245624186315\n"
     ]
    }
   ],
   "source": [
    "'''\n",
    "# 提取每月销量\n",
    "_x_2012 = df[df['year'] == 2012]['month']\n",
    "_x_2013 = df[df['year'] == 2013]['month']\n",
    "_x_2014 = df[df['year'] == 2014]['month']\n",
    "_x_2015 = df[df['year'] == 2015]['month']\n",
    "_y_2012 = df[df['year'] == 2012]['buy_mount']\n",
    "_y_2013 = df[df['year'] == 2013]['buy_mount']\n",
    "_y_2014 = df[df['year'] == 2014]['buy_mount']\n",
    "_y_2015 = df[df['year'] == 2015]['buy_mount']\n",
    "print(_y_2014.sum() / _y_2013.sum() -1)\n",
    "'''"
   ]
  },
  {
   "cell_type": "code",
   "execution_count": null,
   "metadata": {},
   "outputs": [],
   "source": []
  },
  {
   "cell_type": "code",
   "execution_count": null,
   "metadata": {},
   "outputs": [],
   "source": []
  },
  {
   "cell_type": "code",
   "execution_count": null,
   "metadata": {},
   "outputs": [],
   "source": []
  },
  {
   "cell_type": "code",
   "execution_count": null,
   "metadata": {},
   "outputs": [],
   "source": []
  },
  {
   "cell_type": "code",
   "execution_count": null,
   "metadata": {},
   "outputs": [],
   "source": []
  },
  {
   "cell_type": "code",
   "execution_count": null,
   "metadata": {},
   "outputs": [],
   "source": []
  },
  {
   "cell_type": "code",
   "execution_count": null,
   "metadata": {},
   "outputs": [],
   "source": []
  }
 ],
 "metadata": {
  "kernelspec": {
   "display_name": "Python 3",
   "language": "python",
   "name": "python3"
  },
  "language_info": {
   "codemirror_mode": {
    "name": "ipython",
    "version": 3
   },
   "file_extension": ".py",
   "mimetype": "text/x-python",
   "name": "python",
   "nbconvert_exporter": "python",
   "pygments_lexer": "ipython3",
   "version": "3.7.4"
  }
 },
 "nbformat": 4,
 "nbformat_minor": 2
}
