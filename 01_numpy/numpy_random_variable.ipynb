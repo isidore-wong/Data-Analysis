{
 "cells": [
  {
   "cell_type": "code",
   "execution_count": 15,
   "metadata": {},
   "outputs": [
    {
     "name": "stdout",
     "output_type": "stream",
     "text": [
      "0.8261699290504052\n",
      "4.528240972224734\n",
      "2\n",
      "25\n",
      "x\n",
      "study\n",
      "next\n",
      "m打乱元素后为： ['next', 'for', 'study', 'book']\n",
      "q打乱元素排序后为： [4, 5, 1, 3, 2]\n",
      "[9, 2, 6, 7, 5]\n",
      "[1, 2, 3, 4, 5, 6, 7, 8, 9, 10]\n",
      "[1, 3, 5, 6, 4] <class 'list'>\n"
     ]
    }
   ],
   "source": [
    "# random函数的应用--生成随机数\n",
    "from cgi import print_arguments\n",
    "import random \n",
    "\n",
    "# random.random()-返回随机生成一个浮点数, 范围在[0, 1)之间\n",
    "x1 = random.random()\n",
    "print(x1)\n",
    "\n",
    "# random.uniform(a, b)-随机生成一个浮点数, 范围在[a, b)之间\n",
    "x2 = random.uniform(3, 5)\n",
    "print(x2)\n",
    "\n",
    "# random.randint(a, b)-生成指定范围的整数\n",
    "x3 = random.randint(1, 10)\n",
    "print(x3)\n",
    "\n",
    "# random.randrange([start],stop[,step])：用于从指定范围内按指定基数递增的集合中获取一个随机数\n",
    "x4 = random.randrange(10, 30, 5)\n",
    "print(x4)\n",
    "\n",
    "# random.choice()：从指定的序列中获取一个随机元素\n",
    "print(random.choice('studyfornextbook'))              # 从字符串中随机获取一个字符\n",
    "print(random.choice(['study', 'for', 'next', 'book']))   # 从list列表中随机获取一个\n",
    "print(random.choice(('study', 'for', 'next', 'book')))   # 从tuple元组中随机获取一个字符\n",
    "\n",
    "# random.shuffle(x[,random])：用于将一个列表中的元素打乱, 随机排序\n",
    "m = ['study', 'for', 'next', 'book']\n",
    "random.shuffle(m)\n",
    "print('m打乱元素后为：', m)\n",
    "q = [1, 2, 3, 4, 5]\n",
    "random.shuffle(q)\n",
    "print('q打乱元素排序后为：', q)\n",
    "\n",
    "# random.sample(sequence,k)：用于从指定序列中随机获取指定长度的片段，\n",
    "# sample()函数不会修改原有序列\n",
    "list_s = [1, 2, 3, 4, 5, 6, 7, 8, 9, 10]\n",
    "slice_s = random.sample(list_s, 5)\n",
    "print(slice_s)\n",
    "print(list_s)\n",
    "\n",
    "m1 = random.sample(range(0, 10), 5)\n",
    "print(m1, type(m1))"
   ]
  },
  {
   "cell_type": "code",
   "execution_count": 27,
   "metadata": {},
   "outputs": [
    {
     "name": "stdout",
     "output_type": "stream",
     "text": [
      "生成一个随机数y1： 0.3870267292201449 <class 'float'>\n",
      "生成多个随机数y2： [0.00671185 0.25649719 0.00493586 0.0776912  0.90484418] <class 'numpy.ndarray'>\n",
      "y3: [4.85300603 5.11882051] <class 'numpy.ndarray'>\n",
      "y4: 5.297533717963924 <class 'float'>\n",
      "y5: [[4.81392601 4.81512126 4.60157182]\n",
      " [4.86417999 5.01786206 5.27317689]] <class 'numpy.ndarray'>\n",
      "y6: [[4.49193067 4.86831253 4.96567349]\n",
      " [4.67307505 5.31817875 5.05851059]] <class 'numpy.ndarray'>\n",
      "y7: -0.6839309053241032 <class 'float'>\n",
      "y8: [ 0.22906113  0.51026936 -0.2493291  -1.26239357  0.11293353] <class 'numpy.ndarray'>\n",
      "y9: [[ 1.22208261  1.17797204  1.1152819   0.55117775 -1.20728725]\n",
      " [ 0.0594058   0.36913554  0.20163915  0.40131126  0.59903596]\n",
      " [-0.31102021 -0.61449062 -0.99600845 -0.54813216  0.62934066]] <class 'numpy.ndarray'>\n",
      "z1: 0.26357547833529826 <class 'float'>\n",
      "z2: [[-1.1981545  -0.73475253 -0.0426211 ]\n",
      " [ 0.08974088  2.34308825 -1.20317587]\n",
      " [-0.7178057  -0.20140297 -0.29658553]] <class 'numpy.ndarray'>\n",
      "z3: 5 <class 'int'>\n",
      "z4: [[13 13  5]\n",
      " [ 6  7 10]\n",
      " [13 10 12]] <class 'numpy.ndarray'>\n"
     ]
    }
   ],
   "source": [
    "# numpy的random函数的用法\n",
    "import numpy as np\n",
    "\n",
    "# np.random.rand(d0, d1, …, dn): 返回一个或一组浮点数，范围在[0, 1)之间\n",
    "y1 = np.random.rand()\n",
    "print('生成一个随机数y1：', y1, type(y1))    \n",
    "\n",
    "y2 = np.random.rand(5)\n",
    "print('生成多个随机数y2：', y2, type(y2))    \n",
    "\n",
    "# np.random.normal(loc=a, scale=b, size=()): 返回满足条件为均值=a, 标准差=b的正态分布（高斯分布）的概率密度随机数\n",
    "y3 = np.random.normal(5, 0.2, 2)\n",
    "print('y3:', y3, type(y3))\n",
    "\n",
    "y4 = np.random.normal(5, 0.2)\n",
    "print('y4:', y4, type(y4))\n",
    "\n",
    "y5 = np.random.normal(5, 0.2, (2, 3))\n",
    "print('y5:', y5, type(y5))\n",
    "\n",
    "y6 = np.random.normal(5, 0.2, [2, 3])\n",
    "print('y6:', y6, type(y6))\n",
    "\n",
    "# np.random.randn(d0, d1, … dn): 返回标准正态分布(均值=0，标准差=1)的概率密度随机数\n",
    "y7 = np.random.randn()\n",
    "print('y7:', y7, type(y7))\n",
    "\n",
    "y8 = np.random.randn(5)\n",
    "print('y8:', y8, type(y8))\n",
    "\n",
    "y9 = np.random.randn(3, 5)\n",
    "print('y9:', y9, type(y9))\n",
    "\n",
    "# np.random.standard_normal(size=()): 返回标准正态分布(均值=0，标准差=1)的概率密度随机数\n",
    "z1 = np.random.standard_normal()\n",
    "print('z1:', z1, type(z1))\n",
    "\n",
    "z2 = np.random.standard_normal(size=(3, 3))\n",
    "print('z2:', z2, type(z2))\n",
    "\n",
    "# np.random.randint(a, b, size=(), dtype=int): 返回在范围在[a, b)中的随机整数（含有重复值）\n",
    "z3 = np.random.randint(1, 10)\n",
    "z4 = np.random.randint(5, 15, size=(3, 3))\n",
    "print('z3:', z3, type(z3))\n",
    "print('z4:', z4, type(z4))"
   ]
  },
  {
   "cell_type": "markdown",
   "metadata": {},
   "source": [
    "np.random.rand()与np.random.standard_normal()的方法结果相似，都是返回合符标准正态分布的随机浮点数或数组。"
   ]
  },
  {
   "cell_type": "markdown",
   "metadata": {},
   "source": [
    "### random.seed(): 设定随机种子\n",
    "在设定随机种子为10之后，random.random()的随机数将被直接设定为:0.5714025946899135, 变为一个固定值，这说明当随机种子被设定后，产生的随机数将也随之固定"
   ]
  },
  {
   "cell_type": "code",
   "execution_count": 28,
   "metadata": {},
   "outputs": [
    {
     "name": "stdout",
     "output_type": "stream",
     "text": [
      "n1: 0.5714025946899135\n",
      "n2: 0.5714025946899135\n",
      "n3: 0.5714025946899135\n"
     ]
    }
   ],
   "source": [
    "random.seed(10)\n",
    "n1 = random.random()\n",
    "print('n1:', n1)\n",
    "\n",
    "random.seed(10)\n",
    "n2 = random.random()\n",
    "print('n2:', n2)\n",
    "\n",
    "random.seed(10)\n",
    "n3 = random.random()\n",
    "print('n3:', n3)"
   ]
  },
  {
   "cell_type": "code",
   "execution_count": 43,
   "metadata": {},
   "outputs": [
    {
     "name": "stdout",
     "output_type": "stream",
     "text": [
      "整数随机数组： [[4 3 4]\n",
      " [2 3 3]\n",
      " [1 2 1]]\n",
      "小数随机数组： [[ 0.44122749 -0.33087015  2.43077119]\n",
      " [-0.25209213  0.10960984  1.58248112]\n",
      " [-0.9092324  -0.59163666  0.18760323]]\n"
     ]
    }
   ],
   "source": [
    "\n",
    "np.random.seed(5)\n",
    "print('整数随机数组：', np.random.randint(1, 5, size=(3,3)))\n",
    "\n",
    "np.random.seed(5)\n",
    "print('小数随机数组：', np.random.standard_normal(size=(3, 3)))"
   ]
  },
  {
   "cell_type": "code",
   "execution_count": 44,
   "metadata": {},
   "outputs": [
    {
     "name": "stdout",
     "output_type": "stream",
     "text": [
      "[[1.76405235 0.40015721 0.97873798 2.2408932  1.86755799]]\n",
      "[[1.76405235 0.40015721 0.97873798 2.2408932  1.86755799]]\n",
      "[[1.76405235 0.40015721 0.97873798 2.2408932  1.86755799]]\n",
      "[[-0.97727788  0.95008842 -0.15135721 -0.10321885  0.4105985 ]]\n",
      "[[0.14404357 1.45427351 0.76103773 0.12167502 0.44386323]]\n",
      "[[ 0.33367433  1.49407907 -0.20515826  0.3130677  -0.85409574]]\n",
      "################################\n",
      "[[-2.55298982  0.6536186   0.8644362  -0.74216502  2.26975462]]\n",
      "[[-1.45436567  0.04575852 -0.18718385  1.53277921  1.46935877]]\n",
      "################################\n",
      "[[ 0.15494743  0.37816252 -0.88778575 -1.98079647 -0.34791215]\n",
      " [ 0.15634897  1.23029068  1.20237985 -0.38732682 -0.30230275]]\n",
      "################################\n",
      "[[1.76405235 0.40015721 0.97873798 2.2408932  1.86755799]]\n",
      "[[-0.97727788  0.95008842 -0.15135721 -0.10321885  0.4105985 ]]\n",
      "[[0.14404357 1.45427351 0.76103773 0.12167502 0.44386323]]\n",
      "[[ 0.33367433  1.49407907 -0.20515826  0.3130677  -0.85409574]]\n",
      "[[-2.55298982  0.6536186   0.8644362  -0.74216502  2.26975462]]\n",
      "[[-1.45436567  0.04575852 -0.18718385  1.53277921  1.46935877]]\n",
      "[[ 0.15494743  0.37816252 -0.88778575 -1.98079647 -0.34791215]]\n",
      "[[ 0.15634897  1.23029068  1.20237985 -0.38732682 -0.30230275]]\n"
     ]
    }
   ],
   "source": [
    "# 测试设定随机数种子的影响\n",
    "if __name__ == '__main__':\n",
    "    i = 0\n",
    "    while i < 6:\n",
    "        if i < 3:\n",
    "            np.random.seed(0)\n",
    "            print(np.random.randn(1, 5))\n",
    "        else:\n",
    "            print(np.random.randn(1, 5))\n",
    "        i += 1\n",
    "    print('################################')\n",
    "    i = 0\n",
    "    while i < 2:\n",
    "        print(np.random.randn(1, 5))\n",
    "        i += 1\n",
    "    print('################################')\n",
    "    print(np.random.randn(2, 5))\n",
    "    print('################################')\n",
    "    np.random.seed(0)\n",
    "    i = 0\n",
    "    while i < 8:\n",
    "        print(np.random.randn(1, 5))\n",
    "        i += 1\n",
    "\n"
   ]
  },
  {
   "cell_type": "markdown",
   "metadata": {},
   "source": [
    "### 通过该实验我们可以得到以下结论：\n",
    "\n",
    "两次利用随机数种子后，即便是跳出循环后，生成随机数的结果依然是相同的。第一次跳出while循环后，进入第二个while循环，得到的两个随机数组确实和加了随机数种子不一样。但是，后面的加了随机数种子的，八次循环中的结果和前面的结果是一样的。\n",
    "- 说明，随机数种子对后面的结果一直有影响。同时，加了随机数种子以后，后面的随机数组都是按一定的顺序生成的\n",
    "\n",
    "在同样的随机种子后第六次的随机数生成结果，两行五列的数组和两个一行五列的数组结果相同。  \n",
    "-  说明，在生成多行随机数组时，是由单行随机数组组合而成的。\n",
    "\n",
    "利用随机数种子，每次生成的随机数相同，就是使后面的随机数按一定的顺序生成。当随机数种子参数为0和1时，生成的随机数和我上面高亮的结果相同。\n",
    "- 说明该参数指定了一个随机数生成的起始位置。每个参数对应一个位置。并且在该参数确定后，其后面的随机数的生成顺序也就确定了。\n",
    "\n",
    "随机数种子的参数怎么选择？我认为随意，这个参数只是确定一下随机数的起始位置"
   ]
  },
  {
   "cell_type": "code",
   "execution_count": 48,
   "metadata": {},
   "outputs": [
    {
     "data": {
      "image/png": "[encoded data removed]",
      "text/plain": [
       "<Figure size 960x480 with 2 Axes>"
      ]
     },
     "metadata": {
      "needs_background": "light"
     },
     "output_type": "display_data"
    }
   ],
   "source": [
    "# 随机数种子的展示\n",
    "import numpy as np\n",
    "import matplotlib.pyplot as plt\n",
    "\n",
    "\n",
    "def generateData(seed, num):\n",
    "    x = 0\n",
    "    np.random.seed(seed)\n",
    "    data = []\n",
    "    for i in range(num):\n",
    "        x += np.random.normal()\n",
    "        data.append(x)\n",
    "    return data\n",
    "\n",
    "\n",
    "def visualizeData(series1, series2):\n",
    "    \"\"\"\n",
    "    根据给定的fpr和tpr，绘制ROC曲线\n",
    "    \"\"\"\n",
    "    # 为在Matplotlib中显示中文，设置特殊字体\n",
    "    plt.rcParams[\"font.sans-serif\"]=[\"SimHei\"]\n",
    "    # 在Matplotlib中显示负号\n",
    "    plt.rcParams['axes.unicode_minus']=False\n",
    "    # 创建一个图形框\n",
    "    fig = plt.figure(figsize=(12, 6), dpi=80)\n",
    "    # 在图形框里只画两幅图\n",
    "    ax = fig.add_subplot(1, 2, 1)\n",
    "    ax.plot(series1)\n",
    "    ax1 = fig.add_subplot(1, 2, 2)\n",
    "    ax1.plot(series2)\n",
    "    plt.show()\n",
    "\n",
    "\n",
    "if __name__ == \"__main__\":\n",
    "    series1 = generateData(4096, 200)\n",
    "    series2 = generateData(2046, 200)\n",
    "    visualizeData(series1, series2)\n"
   ]
  }
 ],
 "metadata": {
  "kernelspec": {
   "display_name": "Python 3.9.7 ('base')",
   "language": "python",
   "name": "python3"
  },
  "language_info": {
   "codemirror_mode": {
    "name": "ipython",
    "version": 3
   },
   "file_extension": ".py",
   "mimetype": "text/x-python",
   "name": "python",
   "nbconvert_exporter": "python",
   "pygments_lexer": "ipython3",
   "version": "3.9.7"
  },
  "orig_nbformat": 4,
  "vscode": {
   "interpreter": {
    "hash": "e586bf73a3ba743d87b08ac8aca774a3ddc3dd74ebdebdf03752e3393427fc59"
   }
  }
 },
 "nbformat": 4,
 "nbformat_minor": 2
}
