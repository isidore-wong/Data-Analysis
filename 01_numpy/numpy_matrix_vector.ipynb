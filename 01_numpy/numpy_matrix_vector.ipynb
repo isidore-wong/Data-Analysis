{
 "cells": [
  {
   "cell_type": "markdown",
   "metadata": {},
   "source": [
    "# numpy中的矩阵和向量"
   ]
  },
  {
   "cell_type": "markdown",
   "metadata": {},
   "source": [
    "numpy的ndarray类用于表示矩阵和向量。\n",
    "\n",
    "要在numpy中构造矩阵，我们在列表中列出矩阵的行，并将该列表传递给numpy数组构造函数。\n",
    "\n",
    "例如，构造与矩阵对应的numpy数组 $$\\left\\lgroup \\matrix{1 & -1 & 2\\cr 3 & 2 & 0} \\right\\rgroup$$"
   ]
  },
  {
   "cell_type": "code",
   "execution_count": 2,
   "metadata": {},
   "outputs": [],
   "source": [
    "import numpy as np"
   ]
  },
  {
   "cell_type": "code",
   "execution_count": 4,
   "metadata": {},
   "outputs": [
    {
     "data": {
      "text/plain": [
       "array([[ 1, -1,  2],\n",
       "       [ 3,  2,  0]])"
      ]
     },
     "execution_count": 4,
     "metadata": {},
     "output_type": "execute_result"
    }
   ],
   "source": [
    "A = np.array([[1,-1,2], [3,2,0]])\n",
    "A"
   ]
  },
  {
   "cell_type": "markdown",
   "metadata": {},
   "source": [
    "向量只是具有单列的数组; 例如，构建向量\n",
    "$$\\left\\lgroup \\matrix{2 \\cr 1 \\cr 3} \\right\\rgroup$$"
   ]
  },
  {
   "cell_type": "code",
   "execution_count": 9,
   "metadata": {},
   "outputs": [
    {
     "data": {
      "text/plain": [
       "array([[2],\n",
       "       [1],\n",
       "       [3]])"
      ]
     },
     "execution_count": 9,
     "metadata": {},
     "output_type": "execute_result"
    }
   ],
   "source": [
    "B = np.array([[2], [1], [3]])\n",
    "B"
   ]
  },
  {
   "cell_type": "markdown",
   "metadata": {},
   "source": [
    "将该矩阵转置：$$\\lgroup \\matrix{2,1,3} \\rgroup $$"
   ]
  },
  {
   "cell_type": "code",
   "execution_count": 10,
   "metadata": {},
   "outputs": [
    {
     "data": {
      "text/plain": [
       "array([[2, 1, 3]])"
      ]
     },
     "execution_count": 10,
     "metadata": {},
     "output_type": "execute_result"
    }
   ],
   "source": [
    "B_trans = np.transpose(B)\n",
    "B_trans"
   ]
  },
  {
   "cell_type": "markdown",
   "metadata": {},
   "source": [
    "### 用numpy求解方程组\n",
    "线性代数中比较常见的问题之一是求解矩阵向量方程, 我们寻找解决方程的向量x\n",
    "\n",
    "A x = b\n",
    "\n",
    "$A = \\left\\lgroup \\matrix{2,1,-2\\cr 3,0,1\\cr 1,1,-1} \\right\\rgroup $\n",
    "\n",
    "$B = \\left\\lgroup \\matrix{-3\\cr 5\\cr 2} \\right\\rgroup $"
   ]
  },
  {
   "cell_type": "code",
   "execution_count": 14,
   "metadata": {},
   "outputs": [
    {
     "data": {
      "text/plain": [
       "array([[0.],\n",
       "       [7.],\n",
       "       [5.]])"
      ]
     },
     "execution_count": 14,
     "metadata": {},
     "output_type": "execute_result"
    }
   ],
   "source": [
    "A = np.array([[2, 1, -2], [3, 0, 1], [1, 1, -1]])\n",
    "B = np.transpose(np.array([[-3, 5, 2]]))\n",
    "\n",
    "x = np.linalg.solve(A, B)\n",
    "x"
   ]
  }
 ],
 "metadata": {
  "kernelspec": {
   "display_name": "Python 3",
   "language": "python",
   "name": "python3"
  },
  "language_info": {
   "codemirror_mode": {
    "name": "ipython",
    "version": 3
   },
   "file_extension": ".py",
   "mimetype": "text/x-python",
   "name": "python",
   "nbconvert_exporter": "python",
   "pygments_lexer": "ipython3",
   "version": "3.6.4"
  }
 },
 "nbformat": 4,
 "nbformat_minor": 2
}
