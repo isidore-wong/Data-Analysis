{
 "cells": [
  {
   "cell_type": "code",
   "execution_count": 1,
   "metadata": {},
   "outputs": [
    {
     "name": "stdout",
     "output_type": "stream",
     "text": [
      "[ 0  1  2 ... 12 13 14]\n"
     ]
    }
   ],
   "source": [
    "import numpy as np\n",
    "\n",
    "# 18 Limit the number of items printed in python numpy array a to a maximum of 6 elements\n",
    "arr13 = np.arange(15)\n",
    "np.set_printoptions(threshold=6)\n",
    "print(arr13)"
   ]
  },
  {
   "cell_type": "code",
   "execution_count": 2,
   "metadata": {},
   "outputs": [
    {
     "name": "stdout",
     "output_type": "stream",
     "text": [
      "[[7.586 5.996 6.434]\n",
      " [7.952 5.691 6.951]\n",
      " [6.688 7.949 5.039]\n",
      " [7.363 7.432 8.313]\n",
      " [9.444 5.596 8.629]]\n"
     ]
    }
   ],
   "source": [
    "# Print or show only 3 decimal places of the numpy array rand_arr\n",
    "rand_arr3 = np.random.uniform(5, 10, size=(5, 3))\n",
    "np.set_printoptions(precision=3)\n",
    "print(rand_arr3)"
   ]
  },
  {
   "cell_type": "code",
   "execution_count": 4,
   "metadata": {},
   "outputs": [
    {
     "data": {
      "text/plain": [
       "array([1, 3, 5, 7, 9])"
      ]
     },
     "execution_count": 4,
     "metadata": {},
     "output_type": "execute_result"
    }
   ],
   "source": [
    "# Extract all odd numbers from arr\n",
    "arr3 = np.array([0, 1, 2, 3, 4, 5, 6, 7, 8, 9])\n",
    "arr3 = arr3[arr3 % 2 == 1]\n",
    "arr3"
   ]
  },
  {
   "cell_type": "code",
   "execution_count": 7,
   "metadata": {},
   "outputs": [
    {
     "name": "stdout",
     "output_type": "stream",
     "text": [
      "[[0 1 2 3 4]\n",
      " [5 6 7 8 9]\n",
      " [1 1 1 1 1]\n",
      " [1 1 1 1 1]]\n",
      "[[1 1 1 1 1]\n",
      " [1 1 1 1 1]\n",
      " [0 1 2 3 4]\n",
      " [5 6 7 8 9]]\n",
      "[[0 1 2 3 4]\n",
      " [5 6 7 8 9]\n",
      " [1 1 1 1 1]\n",
      " [1 1 1 1 1]]\n"
     ]
    }
   ],
   "source": [
    "# 7 Stack arrays a and b vertically\n",
    "a = np.arange(10).reshape(2, -1)\n",
    "b = np.repeat(1, 10).reshape(2, -1)\n",
    "\n",
    "# method 1\n",
    "a_b_1 = np.concatenate([a, b], axis=0)\n",
    "print(a_b_1)\n",
    "\n",
    "# method 2\n",
    "a_b_2 = np.vstack([b, a])\n",
    "print(a_b_2)\n",
    "\n",
    "# method 3\n",
    "a_b_3 = np.r_[a, b]\n",
    "print(a_b_3)"
   ]
  },
  {
   "cell_type": "code",
   "execution_count": 5,
   "metadata": {},
   "outputs": [
    {
     "name": "stdout",
     "output_type": "stream",
     "text": [
      "[0 1 2 ... 7 8 9]\n",
      "[ 0 -1  2 ... -1  8 -1]\n"
     ]
    }
   ],
   "source": [
    "# Replace all odd numbers in arr with -1 without changing arr\n",
    "arr5 = np.arange(10)\n",
    "out = np.where(arr5 % 2 == 1, -1, arr5)\n",
    "print(arr5)\n",
    "print(out)"
   ]
  },
  {
   "cell_type": "code",
   "execution_count": 9,
   "metadata": {},
   "outputs": [
    {
     "name": "stdout",
     "output_type": "stream",
     "text": [
      "[1 1 1 2 2 2 3 3 3 1 2 3 1 2 3 1 2 3]\n"
     ]
    }
   ],
   "source": [
    "# 9 Create the following pattern without hardcoding. Use only numpy functions and the below input array a\n",
    "# a = np.array([1,2,3])  #> array([1, 1, 1, 2, 2, 2, 3, 3, 3, 1, 2, 3, 1,\n",
    "# 2, 3, 1, 2, 3])\n",
    "a1 = np.array([1, 2, 3])\n",
    "# b1 = np.r_[a1.repeat(3)]\n",
    "# b1 = np.r_[np.tile(a1, 3)]\n",
    "b1 = np.r_[np.repeat(a1, 3), np.tile(a1, 3)]\n",
    "np.set_printoptions(threshold=30)\n",
    "print(b1)"
   ]
  },
  {
   "cell_type": "code",
   "execution_count": 10,
   "metadata": {},
   "outputs": [
    {
     "name": "stdout",
     "output_type": "stream",
     "text": [
      "[2 4 9]\n"
     ]
    }
   ],
   "source": [
    "# 10 Get the common items between a and b\n",
    "a2 = np.array([1, 2, 3, 2, 3, 4, 3, 4, 5, 6, 9])\n",
    "b2 = np.array([7, 2, 10, 2, 7, 4, 9, 4, 9, 8])\n",
    "print(np.intersect1d(a2, b2))"
   ]
  },
  {
   "cell_type": "code",
   "execution_count": 11,
   "metadata": {},
   "outputs": [
    {
     "name": "stdout",
     "output_type": "stream",
     "text": [
      "[1 2 3]\n",
      "[7 8 9]\n"
     ]
    }
   ],
   "source": [
    "# 11 From array a remove all items present in array b\n",
    "a3 = np.array([1, 2, 3, 4, 5, 6])\n",
    "b3 = np.array([4, 5, 6, 7, 8, 9])\n",
    "print(np.setdiff1d(a3, b3))\n",
    "print(np.setdiff1d(b3, a3))"
   ]
  },
  {
   "cell_type": "code",
   "execution_count": 13,
   "metadata": {},
   "outputs": [
    {
     "data": {
      "text/plain": [
       "(array([1, 3, 5, 7], dtype=int64),)"
      ]
     },
     "execution_count": 13,
     "metadata": {},
     "output_type": "execute_result"
    }
   ],
   "source": [
    "# 12 Get the positions where elements of a and b match,the same elements\n",
    "a4 = np.array([1, 2, 3, 2, 3, 4, 3, 4, 5, 6])\n",
    "b4 = np.array([7, 2, 10, 2, 7, 4, 9, 4, 9, 8])\n",
    "np.where(a4 == b4)"
   ]
  },
  {
   "cell_type": "code",
   "execution_count": 14,
   "metadata": {},
   "outputs": [
    {
     "name": "stdout",
     "output_type": "stream",
     "text": [
      "[ 6  9 10]\n",
      "[ 6  9 10]\n",
      "[ 6  9 10]\n"
     ]
    }
   ],
   "source": [
    "# 13 Get all items between 5 and 10 from a\n",
    "a5 = np.array([2, 6, 1, 9, 10, 3, 27])\n",
    "\n",
    "# method 1\n",
    "print(a5[np.where((a5 >= 5) & (a5 <= 10))])\n",
    "\n",
    "# method 2\n",
    "print(a5[(a5 >= 5) & (a5 <= 10)])\n",
    "\n",
    "# method 3\n",
    "print(a5[np.where(np.logical_and(a5 >= 5, a5 <= 10))])"
   ]
  }
 ],
 "metadata": {
  "kernelspec": {
   "display_name": "Python 3",
   "language": "python",
   "name": "python3"
  },
  "language_info": {
   "codemirror_mode": {
    "name": "ipython",
    "version": 3
   },
   "file_extension": ".py",
   "mimetype": "text/x-python",
   "name": "python",
   "nbconvert_exporter": "python",
   "pygments_lexer": "ipython3",
   "version": "3.6.4"
  }
 },
 "nbformat": 4,
 "nbformat_minor": 2
}
