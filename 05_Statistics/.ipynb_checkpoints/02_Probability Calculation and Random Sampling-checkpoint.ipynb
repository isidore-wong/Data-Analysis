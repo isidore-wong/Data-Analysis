{
 "cells": [
  {
   "cell_type": "markdown",
   "metadata": {},
   "source": [
    "### Chapter One: Probability Calculation\n",
    "\n",
    "This part introduce various probability distributions, such as Binomial distribution, Poisson distribution, Normal distribution and so on."
   ]
  },
  {
   "cell_type": "code",
   "execution_count": 2,
   "metadata": {},
   "outputs": [],
   "source": [
    "from scipy import stats"
   ]
  },
  {
   "cell_type": "code",
   "execution_count": 10,
   "metadata": {},
   "outputs": [
    {
     "name": "stdout",
     "output_type": "stream",
     "text": [
      "恰有4个顾客购买的概率是0.059535\n",
      "购买的顾客不超过一半的概率是0.929530\n",
      "至少有1个顾客购买的概率是0.882351\n"
     ]
    }
   ],
   "source": [
    "# Binomial distribution 二项分布\n",
    "'''\n",
    "calculate probability of Binomial distribution using module of scipy\n",
    "\n",
    "假设有6个顾客进入某服装店，任一顾客购买的概率是0.30。计算下列事件的概率\n",
    "1.恰有4个顾客购买\n",
    "2.购买的顾客不超过一半\n",
    "3.至少有1个顾客购买\n",
    "'''\n",
    "\n",
    "n = 6\n",
    "p = 0.3\n",
    "\n",
    "# 1.恰有4个顾客购买\n",
    "k = 4\n",
    "prob_4_purchase = stats.binom.pmf(k, n, p)\n",
    "print('恰有4个顾客购买的概率是{:.6f}'.format(prob_4_purchase))    # 计算结果保留6位小数\n",
    "\n",
    "# 购买的顾客不超过一半\n",
    "k = 3\n",
    "prob_less_3_purchase = stats.binom.cdf(k, n, p)\n",
    "print('购买的顾客不超过一半的概率是{:.6f}'.format(prob_less_3_purchase))\n",
    "\n",
    "# 至少有1个顾客购买\n",
    "k = 0\n",
    "prob_more_1_purchase = 1 - stats.binom.cdf(k, n, p)\n",
    "print('至少有1个顾客购买的概率是{:.6f}'.format(prob_more_1_purchase))"
   ]
  },
  {
   "cell_type": "markdown",
   "metadata": {},
   "source": [
    "#### 泊松分布\n",
    "描述单位时间（或空间）内随机事件发生的次数"
   ]
  },
  {
   "cell_type": "code",
   "execution_count": 11,
   "metadata": {},
   "outputs": [
    {
     "name": "stdout",
     "output_type": "stream",
     "text": [
      "5分钟内接到3次电话的概率: 0.195367\n"
     ]
    }
   ],
   "source": [
    "# Poisson distribution 泊松分布\n",
    "'''\n",
    "calculate probability of Poisson distribution using module of scipy\n",
    "\n",
    "某航空公司的订票处每60分钟有48次电话。求5分钟内接到3次电话的概率\n",
    "'''\n",
    "\n",
    "x = 3\n",
    "# 单位时间（平均每分钟）发生的次数是48/60, 单位时间（5分钟）发生的次数mu=(48/60) * 5 \n",
    "mu = (48/60) * 5    \n",
    "prob_poisson_5_3 = stats.poisson.pmf(x, mu)\n",
    "print('5分钟内接到3次电话的概率: {:.6f}'.format(prob_poisson_5_3))"
   ]
  },
  {
   "cell_type": "markdown",
   "metadata": {},
   "source": [
    "### 超几何分布\n",
    "描述了从有限N个物件（其中包含M个指定种类的物件）中抽出n个物件，成功抽出该指定种类的物件的次数（不放回），称为超几何分布。\n",
    "\n",
    "超几何分布中的参数是M,N,n，上述超几何分布记作X~H(n,M,N)。"
   ]
  },
  {
   "cell_type": "code",
   "execution_count": null,
   "metadata": {},
   "outputs": [],
   "source": [
    "# Hypergeometric distribution 超几何分布\n",
    "'''\n",
    "10人中，6人喜欢可口可乐，4人喜欢百事可乐，从这些人中选出一个3人的随机样本。求\n",
    "1.恰有2人喜欢可口可乐的概率是多少？\n",
    "2.2或3个人喜欢百事可乐的概率是多少？\n",
    "'''\n",
    "\n"
   ]
  },
  {
   "cell_type": "code",
   "execution_count": null,
   "metadata": {},
   "outputs": [],
   "source": [
    "# Normal distribution 正态分布\n"
   ]
  },
  {
   "cell_type": "code",
   "execution_count": null,
   "metadata": {},
   "outputs": [],
   "source": [
    "# Chi-Square distribution卡方分布\n"
   ]
  },
  {
   "cell_type": "code",
   "execution_count": null,
   "metadata": {},
   "outputs": [],
   "source": [
    "# t-distribution t分布\n"
   ]
  },
  {
   "cell_type": "code",
   "execution_count": null,
   "metadata": {},
   "outputs": [],
   "source": [
    "# f-distribution F分布\n"
   ]
  },
  {
   "cell_type": "code",
   "execution_count": null,
   "metadata": {},
   "outputs": [],
   "source": [
    "# Permutation and Combination 排列组合\n"
   ]
  },
  {
   "cell_type": "code",
   "execution_count": null,
   "metadata": {},
   "outputs": [],
   "source": [
    "# Probability density function 概率密度函数\n"
   ]
  },
  {
   "cell_type": "markdown",
   "metadata": {},
   "source": [
    "### Chapter Two: Random Sampling"
   ]
  },
  {
   "cell_type": "code",
   "execution_count": null,
   "metadata": {},
   "outputs": [],
   "source": [
    "# Create random numbers using a random number generator\n"
   ]
  },
  {
   "cell_type": "code",
   "execution_count": null,
   "metadata": {},
   "outputs": [],
   "source": [
    "# Create random numbers using random number function\n"
   ]
  },
  {
   "cell_type": "code",
   "execution_count": null,
   "metadata": {},
   "outputs": [],
   "source": [
    "# Simulation of normal distribution 正态分布的模拟\n"
   ]
  }
 ],
 "metadata": {
  "kernelspec": {
   "display_name": "Python 3",
   "language": "python",
   "name": "python3"
  },
  "language_info": {
   "codemirror_mode": {
    "name": "ipython",
    "version": 3
   },
   "file_extension": ".py",
   "mimetype": "text/x-python",
   "name": "python",
   "nbconvert_exporter": "python",
   "pygments_lexer": "ipython3",
   "version": "3.8.3"
  }
 },
 "nbformat": 4,
 "nbformat_minor": 4
}
