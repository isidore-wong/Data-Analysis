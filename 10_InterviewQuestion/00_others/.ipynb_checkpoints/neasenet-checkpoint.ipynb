{
 "cells": [
  {
   "cell_type": "code",
   "execution_count": 1,
   "metadata": {},
   "outputs": [],
   "source": [
    "import re\n",
    "import json\n",
    "import pandas as pd"
   ]
  },
  {
   "cell_type": "code",
   "execution_count": 40,
   "metadata": {},
   "outputs": [
    {
     "data": {
      "text/plain": [
       "[{'role_id': '698382', 'vip': 6},\n",
       " {'role_id': '698582', 'vip': 2},\n",
       " {'role_id': '678382', 'vip': 4}]"
      ]
     },
     "execution_count": 40,
     "metadata": {},
     "output_type": "execute_result"
    }
   ],
   "source": [
    "file = '../../dataset/game_users_info.log'\n",
    "# data_out = pd.DataFrame(columns=['role_id', 'vip'])\n",
    "data_out = []\n",
    "with open(file, 'r') as f:\n",
    "    for line in f:\n",
    "        if '[' in line:\n",
    "            data = re.match(r'.*],(.+)', line)\n",
    "            data_dic = json.loads(data.group(1))\n",
    "            #print('数据修改前： \\n')\n",
    "            #print(\"role_id:\", data_dic['role_id'], \"vip\", data_dic['vip'], '\\n')\n",
    "            dict_tmp = {}\n",
    "            dict_tmp['role_id'] = data_dic['role_id']\n",
    "            dict_tmp['vip'] = data_dic['vip']\n",
    "            data_out.append(dict_tmp)\n",
    "            #if data_dic['vip'] == 4:\n",
    "            #    data_dic['vip'] = 0\n",
    "            # dict_tmp['vip'] = \n",
    "\n",
    "data_out            "
   ]
  },
  {
   "cell_type": "code",
   "execution_count": 46,
   "metadata": {},
   "outputs": [
    {
     "data": {
      "text/html": [
       "<div>\n",
       "<style scoped>\n",
       "    .dataframe tbody tr th:only-of-type {\n",
       "        vertical-align: middle;\n",
       "    }\n",
       "\n",
       "    .dataframe tbody tr th {\n",
       "        vertical-align: top;\n",
       "    }\n",
       "\n",
       "    .dataframe thead th {\n",
       "        text-align: right;\n",
       "    }\n",
       "</style>\n",
       "<table border=\"1\" class=\"dataframe\">\n",
       "  <thead>\n",
       "    <tr style=\"text-align: right;\">\n",
       "      <th></th>\n",
       "      <th>role_id</th>\n",
       "      <th>vip</th>\n",
       "    </tr>\n",
       "  </thead>\n",
       "  <tbody>\n",
       "    <tr>\n",
       "      <td>0</td>\n",
       "      <td>698382</td>\n",
       "      <td>6</td>\n",
       "    </tr>\n",
       "    <tr>\n",
       "      <td>1</td>\n",
       "      <td>698582</td>\n",
       "      <td>2</td>\n",
       "    </tr>\n",
       "    <tr>\n",
       "      <td>2</td>\n",
       "      <td>678382</td>\n",
       "      <td>4</td>\n",
       "    </tr>\n",
       "  </tbody>\n",
       "</table>\n",
       "</div>"
      ],
      "text/plain": [
       "  role_id  vip\n",
       "0  698382    6\n",
       "1  698582    2\n",
       "2  678382    4"
      ]
     },
     "execution_count": 46,
     "metadata": {},
     "output_type": "execute_result"
    }
   ],
   "source": [
    "file = '../../dataset/game_users_info.log'\n",
    "data_out = []\n",
    "with open(file, 'r') as f:\n",
    "    for line in f:\n",
    "        if '[' in line:\n",
    "            data = re.match(r'.*],(.+)', line)\n",
    "            data_dic = json.loads(data.group(1))\n",
    "            \n",
    "            dict_tmp = {}\n",
    "            dict_tmp['role_id'] = data_dic['role_id']\n",
    "            dict_tmp['vip'] = data_dic['vip']\n",
    "            \n",
    "        data_out.append(dict_tmp)\n",
    "\n",
    "data_df = pd.DataFrame(data_out)\n",
    "data_df['vip'] = data_df['vip'].fillna(0)\n",
    "data_df\n",
    "\n",
    "#if data_dic['vip'] == \"\" or None:\n",
    "#                data_dic['vip'] = 0"
   ]
  },
  {
   "cell_type": "code",
   "execution_count": 51,
   "metadata": {},
   "outputs": [],
   "source": [
    "def get_data(file):\n",
    "    data_out = []\n",
    "    with open(file, 'r') as f:\n",
    "        for line in f:\n",
    "            if '[' in line:\n",
    "                data = re.match(r'.*],(.+)', line)\n",
    "                data_dic = json.loads(data.group(1))\n",
    "                # 用来储存role_id和vip的键值对\n",
    "                dict_tmp = {}\n",
    "                dict_tmp['role_id'] = data_dic['role_id']\n",
    "                dict_tmp['vip'] = data_dic['vip']\n",
    "\n",
    "            data_out.append(dict_tmp)\n",
    "\n",
    "    data_df = pd.DataFrame(data_out)\n",
    "    data_df['vip'] = data_df['vip'].fillna(0)\n",
    "    return data_df"
   ]
  },
  {
   "cell_type": "code",
   "execution_count": 53,
   "metadata": {},
   "outputs": [
    {
     "data": {
      "text/html": [
       "<div>\n",
       "<style scoped>\n",
       "    .dataframe tbody tr th:only-of-type {\n",
       "        vertical-align: middle;\n",
       "    }\n",
       "\n",
       "    .dataframe tbody tr th {\n",
       "        vertical-align: top;\n",
       "    }\n",
       "\n",
       "    .dataframe thead th {\n",
       "        text-align: right;\n",
       "    }\n",
       "</style>\n",
       "<table border=\"1\" class=\"dataframe\">\n",
       "  <thead>\n",
       "    <tr style=\"text-align: right;\">\n",
       "      <th></th>\n",
       "      <th>role_id</th>\n",
       "      <th>vip</th>\n",
       "    </tr>\n",
       "  </thead>\n",
       "  <tbody>\n",
       "    <tr>\n",
       "      <td>0</td>\n",
       "      <td>698382</td>\n",
       "      <td>6</td>\n",
       "    </tr>\n",
       "    <tr>\n",
       "      <td>1</td>\n",
       "      <td>698582</td>\n",
       "      <td>2</td>\n",
       "    </tr>\n",
       "    <tr>\n",
       "      <td>2</td>\n",
       "      <td>678382</td>\n",
       "      <td>4</td>\n",
       "    </tr>\n",
       "  </tbody>\n",
       "</table>\n",
       "</div>"
      ],
      "text/plain": [
       "  role_id  vip\n",
       "0  698382    6\n",
       "1  698582    2\n",
       "2  678382    4"
      ]
     },
     "execution_count": 53,
     "metadata": {},
     "output_type": "execute_result"
    }
   ],
   "source": [
    "file = '../../dataset/game_users_info.log'\n",
    "result = get_data(file)\n",
    "result.to_csv('result.csv')"
   ]
  },
  {
   "cell_type": "markdown",
   "metadata": {},
   "source": [
    "**参考资料**\n",
    "1. [使用正则对日志进行提取](https://blog.csdn.net/liyyzz33/article/details/96324916)\n",
    "2. [使用正则对日志进行提取](https://blog.csdn.net/liyyzz33/article/details/95970288)"
   ]
  }
 ],
 "metadata": {
  "kernelspec": {
   "display_name": "Python 3",
   "language": "python",
   "name": "python3"
  },
  "language_info": {
   "codemirror_mode": {
    "name": "ipython",
    "version": 3
   },
   "file_extension": ".py",
   "mimetype": "text/x-python",
   "name": "python",
   "nbconvert_exporter": "python",
   "pygments_lexer": "ipython3",
   "version": "3.7.4"
  }
 },
 "nbformat": 4,
 "nbformat_minor": 2
}
